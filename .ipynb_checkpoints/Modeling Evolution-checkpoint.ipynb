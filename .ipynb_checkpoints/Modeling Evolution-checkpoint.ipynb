{
 "cells": [
  {
   "cell_type": "code",
   "execution_count": 3,
   "metadata": {},
   "outputs": [],
   "source": [
    "import numpy as np\n",
    "import matplotlib.pyplot as plt\n",
    "from matplotlib.animation import FuncAnimation"
   ]
  },
  {
   "cell_type": "markdown",
   "metadata": {},
   "source": [
    "# Modeling Evolution"
   ]
  },
  {
   "cell_type": "markdown",
   "metadata": {},
   "source": [
    "We can use differential equations to model reproduction, selection, mutation, and thus evolution. While mutations are introduced randomly, selective pressures and their effects on the frequencies of alleles in the populations are deterministic."
   ]
  },
  {
   "cell_type": "markdown",
   "metadata": {},
   "source": [
    "## Reproduction\n",
    "\n",
    "The simplest biological models include reproducing organisms. Bacteria such as *E. coli* can divide into two identical daughter cells in a process known as **asexual reproduction**. Without limiting environmental conditions, the number of cells is $2^n$. This type of exponential growth results in an explosion of population. If even a single bacterial cell grew exponentially for three days, the total mass of its offspring would exceed the mass of the earth! Below is an example of a simple exponential function."
   ]
  },
  {
   "cell_type": "code",
   "execution_count": 11,
   "metadata": {},
   "outputs": [
    {
     "data": {
      "image/png": "[encoded data removed]",
      "text/plain": [
       "<Figure size 432x288 with 1 Axes>"
      ]
     },
     "metadata": {
      "needs_background": "light"
     },
     "output_type": "display_data"
    }
   ],
   "source": [
    "N = 20 #number of individuals\n",
    "num_red = int(N/2)\n",
    "color_choice = ['r', 'b']\n",
    "pop = []\n",
    "\n",
    "for i in range(N):\n",
    "    x = np.random.uniform(0.1, 4.9, 1)[0]\n",
    "    y = np.random.uniform(0.1, 4.9, 1)[0]\n",
    "    color = np.random.choice(color_choice, replace=False)\n",
    "    color = color+'o'\n",
    "    pop.append([x, y, color])\n",
    "    \n",
    "def generation():\n",
    "    i = np.random.randint(1,N)\n",
    "    ind = pop[i]\n",
    "    c = np.random.randint(0, 2) #probability of changing colors\n",
    "    if c == 0:\n",
    "        ind[2] = 'ro'\n",
    "    else:\n",
    "        ind[2] = 'bo'\n",
    "    pop[i] = ind\n",
    "    \n",
    "generations = 100\n",
    "fig, ax = plt.subplots()\n",
    "ax.set_xlim([0., 5.0])\n",
    "ax.set_ylim([0., 5.0])\n",
    "\n",
    "def update(frame):\n",
    "    ax.clear()\n",
    "    generation()\n",
    "    for i in range(N):\n",
    "        ax.plot(pop[i][0], pop[i][1], pop[i][2], markersize=20)\n",
    "    ax.set_title('Time Step = {}'.format(frame))\n",
    "\n",
    "ani = FuncAnimation(fig, update, generations, interval = 100, blit=False)"
   ]
  },
  {
   "cell_type": "code",
   "execution_count": null,
   "metadata": {},
   "outputs": [],
   "source": []
  }
 ],
 "metadata": {
  "kernelspec": {
   "display_name": "Python 3",
   "language": "python",
   "name": "python3"
  },
  "language_info": {
   "codemirror_mode": {
    "name": "ipython",
    "version": 3
   },
   "file_extension": ".py",
   "mimetype": "text/x-python",
   "name": "python",
   "nbconvert_exporter": "python",
   "pygments_lexer": "ipython3",
   "version": "3.7.3"
  }
 },
 "nbformat": 4,
 "nbformat_minor": 2
}
